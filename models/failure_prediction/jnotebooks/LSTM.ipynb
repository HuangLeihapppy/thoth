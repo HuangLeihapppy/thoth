{
 "cells": [
  {
   "cell_type": "markdown",
   "metadata": {
    "id": "mF-r4kHqhhr0"
   },
   "source": [
    "Contributors: Rohit Singh Rathaur, Girish L.\n",
    "\n",
    "Copyright 2021 [Rohit Singh Rathaur, BIT Mesra and Girish L., CIT GUBBI, Karnataka]\n",
    "\n",
    "Licensed under the Apache License, Version 2.0 (the \"License\"); you may not use this file except in compliance with the License. You may obtain a copy of the License at\n",
    "\n",
    "http://www.apache.org/licenses/LICENSE-2.0\n",
    "Unless required by applicable law or agreed to in writing, software distributed under the License is distributed on an \"AS IS\" BASIS, WITHOUT WARRANTIES OR CONDITIONS OF ANY KIND, either express or implied. See the License for the specific language governing permissions and limitations under the License."
   ]
  },
  {
   "cell_type": "markdown",
   "metadata": {
    "id": "0lwwYh5Yhk-n"
   },
   "source": [
    "We mounted the drive to access the data from google drive"
   ]
  },
  {
   "cell_type": "code",
   "execution_count": null,
   "metadata": {
    "colab": {
     "base_uri": "https://localhost:8080/"
    },
    "id": "YQ6lT1e2hrx4",
    "outputId": "552d1331-3807-437c-aded-2e495ae0f860"
   },
   "outputs": [],
   "source": [
    "from google.colab import drive\n",
    "drive.mount('/content/drive')"
   ]
  },
  {
   "cell_type": "markdown",
   "metadata": {
    "id": "OwlM7YM2htFR"
   },
   "source": [
    "We are importing the libraries:\n",
    "- TensorFlow: to process and train the model\n",
    "- Matplotlib: to plot the training anf loss curves\n",
    "- Pandas: used for data analysis and it allows us to import data from various formats\n",
    "- Numpy: For array computing"
   ]
  },
  {
   "cell_type": "code",
   "execution_count": null,
   "metadata": {
    "id": "tLhroy5BnMnC"
   },
   "outputs": [],
   "source": [
    "# Importing libraries\n",
    "import tensorflow as tf\n",
    "import matplotlib.pyplot as plt\n",
    "import matplotlib as mpl\n",
    "import pandas as pd\n",
    "import numpy as np\n",
    "import os"
   ]
  },
  {
   "cell_type": "markdown",
   "metadata": {
    "id": "qlVZPlu-iiYw"
   },
   "source": [
    "We are reading the CSV file using `read_csv` function and storing it in a DataFrame named `df_Ellis`"
   ]
  },
  {
   "cell_type": "code",
   "execution_count": null,
   "metadata": {
    "colab": {
     "base_uri": "https://localhost:8080/",
     "height": 419
    },
    "id": "2-UpMVsSnfCI",
    "outputId": "06698528-eedb-475b-fa32-e347d03e9980"
   },
   "outputs": [],
   "source": [
    "df_Ellis  = pd.read_csv(\"/content/drive/MyDrive/Failure/lstm/Ellis_FinalTwoConditionwithOR.csv\")\n",
    "df_Ellis"
   ]
  },
  {
   "cell_type": "markdown",
   "metadata": {
    "id": "t5gl1fqmjBdt"
   },
   "source": [
    "`plot()` function is used to draw points"
   ]
  },
  {
   "cell_type": "code",
   "execution_count": null,
   "metadata": {
    "colab": {
     "base_uri": "https://localhost:8080/",
     "height": 293
    },
    "id": "92xBt43BnjAo",
    "outputId": "547a5311-6db3-42b6-d5bd-3bc171446eac"
   },
   "outputs": [],
   "source": [
    "df_Ellis.plot()"
   ]
  },
  {
   "cell_type": "markdown",
   "metadata": {
    "id": "KYRyARNcjJkz"
   },
   "source": [
    "Using multivariate features:\n",
    "- Storing only the multivariate features in a dataframe named `features_3`\n",
    "- Extracting the Timestamp column from `df_Ellis` dataframe\n",
    "- and combining it with the dataframe `features`"
   ]
  },
  {
   "cell_type": "code",
   "execution_count": null,
   "metadata": {
    "colab": {
     "base_uri": "https://localhost:8080/",
     "height": 235
    },
    "id": "5oQK-ddinvCM",
    "outputId": "8bb3a951-1f2d-4f40-aa40-668e00bdc238"
   },
   "outputs": [],
   "source": [
    "## ## using multivariate feature \n",
    "\n",
    "features_3 = ['ellis-cpu.system_perc', 'ellis-cpu.wait_perc', 'ellis-load.avg_1_min', 'ellis-mem.free_mb', 'ellis-net.in_bytes_sec', 'ellis-net.out_packets_sec', 'Label']\n",
    "\n",
    "features = df_Ellis[features_3]\n",
    "features.index = df_Ellis['Timestamp']\n",
    "features.head()"
   ]
  },
  {
   "cell_type": "markdown",
   "metadata": {
    "id": "jO-JgNPQj99-"
   },
   "source": [
    "Plotted features"
   ]
  },
  {
   "cell_type": "code",
   "execution_count": null,
   "metadata": {
    "colab": {
     "base_uri": "https://localhost:8080/",
     "height": 437
    },
    "id": "qbqn755fo81g",
    "outputId": "3a6ee243-5136-4614-93e6-8c2f7f4c13af"
   },
   "outputs": [],
   "source": [
    "features.plot(subplots=True)"
   ]
  },
  {
   "cell_type": "code",
   "execution_count": null,
   "metadata": {
    "id": "jJQD1x9psWCH"
   },
   "outputs": [],
   "source": [
    "features = features.values"
   ]
  },
  {
   "cell_type": "code",
   "execution_count": null,
   "metadata": {
    "colab": {
     "base_uri": "https://localhost:8080/"
    },
    "id": "xf8WCiykpUzN",
    "outputId": "9337b00a-1d3f-4dbc-91d5-2f445eda21e5"
   },
   "outputs": [],
   "source": [
    "### standardize data\n",
    "train_split = 141600\n",
    "tf.random.set_seed(13)\n",
    "\n",
    "### standardize data\n",
    "features_mean = features[:train_split].mean()\n",
    "features_std = features[:train_split].std()\n",
    "features  = (features - features_mean)/ features_std\n",
    "\n",
    "print(type(features))\n",
    "print(features.shape)\n"
   ]
  },
  {
   "cell_type": "code",
   "execution_count": null,
   "metadata": {
    "id": "1a0hNDmppnLB"
   },
   "outputs": [],
   "source": [
    "### create mutlivariate data\n",
    "\n",
    "def mutlivariate_data(features , target , start_idx , end_idx , history_size , target_size,\n",
    "                      step ,  single_step = False):\n",
    "  data = []\n",
    "  labels = []\n",
    "  start_idx = start_idx + history_size\n",
    "  if end_idx is None:\n",
    "    end_idx = len(features)- target_size\n",
    "  for i in range(start_idx , end_idx ):\n",
    "    idxs = range(i-history_size, i, step) ### using step\n",
    "    data.append(features[idxs])\n",
    "    if single_step:\n",
    "      labels.append(target[i+target_size])\n",
    "    else:\n",
    "      labels.append(target[i:i+target_size])\n",
    "\n",
    "  return np.array(data) , np.array(labels)"
   ]
  },
  {
   "cell_type": "markdown",
   "metadata": {
    "id": "vOzDoRCrlTBc"
   },
   "source": [
    "We spliited the multivariate data in tarining and validation and printed the shape of that data."
   ]
  },
  {
   "cell_type": "code",
   "execution_count": null,
   "metadata": {
    "colab": {
     "base_uri": "https://localhost:8080/"
    },
    "id": "Z0CivgkitfgE",
    "outputId": "73165ad2-6043-42c9-ed7d-ff050af74e34"
   },
   "outputs": [],
   "source": [
    "### generate multivariate data\n",
    "\n",
    "history = 720\n",
    "future_target = 72\n",
    "STEP = 6\n",
    "\n",
    "x_train_ss , y_train_ss = mutlivariate_data(features , features[:, 1], 0, train_split, history,\n",
    "                                            future_target, STEP , single_step = True)\n",
    "\n",
    "x_val_ss , y_val_ss = mutlivariate_data(features , features[:,1] , train_split , None , history ,\n",
    "                                        future_target, STEP, single_step = True)\n",
    "\n",
    "print(x_train_ss.shape , y_train_ss.shape)\n",
    "print(x_val_ss.shape , y_val_ss.shape)"
   ]
  },
  {
   "cell_type": "markdown",
   "metadata": {
    "id": "YU_j8yNblhOO"
   },
   "source": []
  },
  {
   "cell_type": "markdown",
   "metadata": {
    "id": "QialFchyl9Rt"
   },
   "source": [
    "The `tf.data.Dataset` API supports writing descriptive and efficient input pipelines. Dataset usage following a common pattern:\n",
    "- Creating a source dataset from our input data.\n",
    "- Applied dataset transformations to preprocess the data.\n",
    "- Iterate over the dataset and process the elements.\n",
    "Note: Iteration happens in a streaming fashion, so the full dataset does not need to fit into memory.\n",
    "Once we have a dataset, we can apply transformations to prepare the data for our model:"
   ]
  },
  {
   "cell_type": "code",
   "execution_count": null,
   "metadata": {
    "colab": {
     "base_uri": "https://localhost:8080/"
    },
    "id": "VBdr2epGu3aq",
    "outputId": "08bfc16c-0e6b-43d8-8fa3-97b84c124bfb"
   },
   "outputs": [],
   "source": [
    "## tensorflow dataset\n",
    "batch_size = 256\n",
    "buffer_size = 10000\n",
    "\n",
    "train_ss = tf.data.Dataset.from_tensor_slices((x_train_ss, y_train_ss))\n",
    "train_ss = train_ss.cache().shuffle(buffer_size).batch(batch_size).repeat()\n",
    "\n",
    "val_ss = tf.data.Dataset.from_tensor_slices((x_val_ss, y_val_ss))\n",
    "val_ss = val_ss.cache().shuffle(buffer_size).batch(batch_size).repeat()\n",
    "\n",
    "print(train_ss)\n",
    "print(val_ss)"
   ]
  },
  {
   "cell_type": "markdown",
   "metadata": {
    "id": "F-ntkTP2njMy"
   },
   "source": [
    "We used a custom loss function to evaluate the model:"
   ]
  },
  {
   "cell_type": "code",
   "execution_count": null,
   "metadata": {
    "id": "9eQpwUyGglu_"
   },
   "outputs": [],
   "source": [
    "def root_mean_squared_error(y_true, y_pred):\n",
    "        return K.sqrt(K.mean(K.square(y_pred - y_true))) "
   ]
  },
  {
   "cell_type": "markdown",
   "metadata": {
    "id": "kTwy7LdqoGpM"
   },
   "source": [
    "We are building a single step LSTM model for training data with dropout 0.3 and we used ADAM optimizers."
   ]
  },
  {
   "cell_type": "code",
   "execution_count": null,
   "metadata": {
    "colab": {
     "base_uri": "https://localhost:8080/",
     "height": 1000
    },
    "id": "1cKtTAzqyiyL",
    "outputId": "f6ec7f52-8cf8-4e81-82c8-8ca59e89f429"
   },
   "outputs": [],
   "source": [
    "from keras.layers import Activation, Dense, Dropout\n",
    "from keras.utils.vis_utils import plot_model\n",
    "### Modelling using LSTM\n",
    "steps = 50\n",
    "\n",
    "EPOCHS =20\n",
    "\n",
    "single_step_model = tf.keras.models.Sequential()\n",
    "\n",
    "single_step_model.add(tf.keras.layers.LSTM(32, return_sequences=False, input_shape = x_train_ss.shape[-2:]))\n",
    "single_step_model.add(tf.keras.layers.Dropout(0.3))\n",
    "single_step_model.add(tf.keras.layers.Dense(1))\n",
    "single_step_model.compile(optimizer = tf.keras.optimizers.Adam(), loss = 'mae',metrics=[tf.keras.metrics.RootMeanSquaredError(name='rmse')])\n",
    "#single_step_model.compile(loss='mse', optimizer='rmsprop')\n",
    "single_step_model_history = single_step_model.fit(train_ss, epochs = EPOCHS , \n",
    "                                                  steps_per_epoch =steps, validation_data = val_ss,\n",
    "                                                  validation_steps = 50)\n",
    "single_step_model.summary()\n",
    "plot_model(single_step_model, to_file='/content/drive/MyDrive/Failure/lstm/LSTM.png', show_shapes=True, show_layer_names=True)\n"
   ]
  },
  {
   "cell_type": "markdown",
   "metadata": {
    "id": "ch-I96MromT8"
   },
   "source": [
    "We defined the `plot_loss` function to plot the train and test loss"
   ]
  },
  {
   "cell_type": "code",
   "execution_count": null,
   "metadata": {
    "colab": {
     "base_uri": "https://localhost:8080/",
     "height": 281
    },
    "id": "Pgev0dgzzBVx",
    "outputId": "c8794bd3-d704-4244-8f32-7be7d73f0890"
   },
   "outputs": [],
   "source": [
    "## plot train test loss \n",
    "\n",
    "def plot_loss(history , title):\n",
    "  loss = history.history['loss']\n",
    "  val_loss = history.history['val_loss']\n",
    "\n",
    "  epochs = range(len(loss))\n",
    "  plt.figure()\n",
    "  plt.plot(epochs, loss , 'b' , label = 'Train Loss')\n",
    "  plt.plot(epochs, val_loss , 'r' , label = 'Validation Loss')\n",
    "  plt.title(title)\n",
    "  plt.legend()\n",
    "  plt.grid()\n",
    "  plt.show()\n",
    "\n",
    "plot_loss(single_step_model_history , 'Single Step Training and validation loss')"
   ]
  },
  {
   "cell_type": "code",
   "execution_count": null,
   "metadata": {
    "colab": {
     "base_uri": "https://localhost:8080/",
     "height": 281
    },
    "id": "EnYf6j4okEoC",
    "outputId": "06250b6b-9899-4eb1-af6c-14afd3ae70f8"
   },
   "outputs": [],
   "source": [
    "## plot train test loss \n",
    "\n",
    "def plot_loss(history , title):\n",
    "  loss = history.history['rmse']\n",
    "  val_loss = history.history['val_rmse']\n",
    "\n",
    "  epochs = range(len(loss))\n",
    "  plt.figure()\n",
    "  plt.plot(epochs, loss , 'b' , label = 'Train RMSE')\n",
    "  plt.plot(epochs, val_loss , 'r' , label = 'Validation RMSE')\n",
    "  plt.title(title)\n",
    "  plt.legend()\n",
    "  plt.grid()\n",
    "  plt.show()\n",
    "\n",
    "plot_loss(single_step_model_history , 'Single Step Training and validation loss')"
   ]
  },
  {
   "cell_type": "markdown",
   "metadata": {
    "id": "tBNraVXSqqfH"
   },
   "source": [
    "We defined a function `create_time_steps` to create time steps and function `plot_time_series` to plot the time series data"
   ]
  },
  {
   "cell_type": "code",
   "execution_count": null,
   "metadata": {
    "id": "WMegV8mNAwe_"
   },
   "outputs": [],
   "source": [
    "### fucntion to create time steps\n",
    "def create_time_steps(length):\n",
    "  return list(range(-length,0))\n",
    "\n",
    "### function to plot time series data\n",
    "\n",
    "def plot_time_series(plot_data, delta , title):\n",
    "  labels = [\"History\" , 'True Future' , 'Model Predcited']\n",
    "  marker = ['.-' , 'rx' , 'go']\n",
    "  time_steps = create_time_steps(plot_data[0].shape[0])\n",
    "\n",
    "  if delta:\n",
    "    future = delta\n",
    "  else:\n",
    "    future = 0\n",
    "  plt.title(title)\n",
    "  for i , x in enumerate(plot_data):\n",
    "    if i :\n",
    "      plt.plot(future , plot_data[i] , marker[i], markersize = 10 , label = labels[i])\n",
    "    else:\n",
    "      plt.plot(time_steps, plot_data[i].flatten(), marker[i], label = labels[i])\n",
    "  plt.legend()\n",
    "  plt.xlim([time_steps[0], (future+5) *2])\n",
    "\n",
    "  plt.xlabel('Time_Step')\n",
    "  return plt"
   ]
  },
  {
   "cell_type": "code",
   "execution_count": null,
   "metadata": {
    "id": "q99i2c-9XKF3"
   },
   "outputs": [],
   "source": [
    "### Moving window average\n",
    "\n",
    "def MWA(history):\n",
    "  return np.mean(history)"
   ]
  },
  {
   "cell_type": "markdown",
   "metadata": {
    "id": "kX1mtI44q4U7"
   },
   "source": [
    "We plotted the time series and predicted values"
   ]
  },
  {
   "cell_type": "code",
   "execution_count": null,
   "metadata": {
    "colab": {
     "base_uri": "https://localhost:8080/",
     "height": 1000
    },
    "id": "xFJT1rZDAUVL",
    "outputId": "37fe707b-40d1-476b-c668-631789537c57"
   },
   "outputs": [],
   "source": [
    "# plot time series and predicted values\n",
    "\n",
    "for x, y in val_ss.take(5):\n",
    "  plot = plot_time_series([x[0][:, 1].numpy(), y[0].numpy(),\n",
    "                    single_step_model.predict(x)[0]], 12,\n",
    "                   'Single Step Prediction')\n",
    "  plot.show()"
   ]
  },
  {
   "cell_type": "markdown",
   "metadata": {
    "id": "_KXWQVmyCSix"
   },
   "source": [
    "# **MultiStep Forcasting**"
   ]
  },
  {
   "cell_type": "markdown",
   "metadata": {
    "id": "5ghCNUvcrBMi"
   },
   "source": [
    "We splitted the data in the form of training and validation for multistep forcasting:"
   ]
  },
  {
   "cell_type": "code",
   "execution_count": null,
   "metadata": {
    "colab": {
     "base_uri": "https://localhost:8080/"
    },
    "id": "Lu7m2Rr4AbMK",
    "outputId": "4aeabbf6-4ca3-4340-d1b1-e94ad1f78faf"
   },
   "outputs": [],
   "source": [
    "future_target = 72 # 72 future values\n",
    "x_train_multi, y_train_multi = mutlivariate_data(features, features[:, 1], 0,\n",
    "                                                 train_split, history,\n",
    "                                                 future_target, STEP)\n",
    "x_val_multi, y_val_multi = mutlivariate_data(features, features[:, 1],\n",
    "                                             train_split, None, history,\n",
    "                                             future_target, STEP)\n",
    "\n",
    "print(x_train_multi.shape)\n",
    "print(y_train_multi.shape)"
   ]
  },
  {
   "cell_type": "markdown",
   "metadata": {
    "id": "Rv5mugNBrVdY"
   },
   "source": [
    "The `tf.data.Dataset` API supports writing descriptive and efficient input pipelines. Dataset usage following a common pattern:\n",
    "- Creating a source dataset from our input data.\n",
    "- Applied dataset transformations to preprocess the data.\n",
    "- Iterate over the dataset and process the elements.\n",
    "Note: Iteration happens in a streaming fashion, so the full dataset does not need to fit into memory.\n",
    "Once we have a dataset, we can apply transformations to prepare the data for our model:"
   ]
  },
  {
   "cell_type": "code",
   "execution_count": null,
   "metadata": {
    "id": "GLRv5D16CrHj"
   },
   "outputs": [],
   "source": [
    "#  TF DATASET\n",
    "\n",
    "train_data_multi = tf.data.Dataset.from_tensor_slices((x_train_multi, y_train_multi))\n",
    "train_data_multi = train_data_multi.cache().shuffle(buffer_size).batch(batch_size).repeat()\n",
    "\n",
    "val_data_multi = tf.data.Dataset.from_tensor_slices((x_val_multi, y_val_multi))\n",
    "val_data_multi = val_data_multi.batch(batch_size).repeat()"
   ]
  },
  {
   "cell_type": "code",
   "execution_count": null,
   "metadata": {
    "colab": {
     "base_uri": "https://localhost:8080/"
    },
    "id": "fjXexah9C8yg",
    "outputId": "13cf8949-9ebc-4ea9-b5ac-f33c6e146a00"
   },
   "outputs": [],
   "source": [
    "print(train_data_multi)\n",
    "print(val_data_multi)"
   ]
  },
  {
   "cell_type": "markdown",
   "metadata": {
    "id": "gMIQq83Ercb2"
   },
   "source": [
    "We created a `multi_step_plot` function to plot between `history` and `true_future` data"
   ]
  },
  {
   "cell_type": "code",
   "execution_count": null,
   "metadata": {
    "colab": {
     "base_uri": "https://localhost:8080/",
     "height": 385
    },
    "id": "7mtLZ6S-DPU-",
    "outputId": "eadda952-c8bc-4b54-e55f-0500d73115c1"
   },
   "outputs": [],
   "source": [
    "#plotting function\n",
    "def multi_step_plot(history, true_future, prediction):\n",
    "  plt.figure(figsize=(12, 6))\n",
    "  num_in = create_time_steps(len(history))\n",
    "  num_out = len(true_future)\n",
    "  plt.grid()\n",
    "  plt.plot(num_in, np.array(history[:, 1]), label='History')\n",
    "  plt.plot(np.arange(num_out)/STEP, np.array(true_future), 'bo',\n",
    "           label='True Future')\n",
    "  if prediction.any():\n",
    "    plt.plot(np.arange(num_out)/STEP, np.array(prediction), 'ro',\n",
    "             label='Predicted Future')\n",
    "  plt.legend(loc='upper left')\n",
    "  plt.show()\n",
    "  \n",
    "\n",
    "\n",
    "for x, y in train_data_multi.take(1):\n",
    "  multi_step_plot(x[0], y[0], np.array([0]))"
   ]
  },
  {
   "cell_type": "markdown",
   "metadata": {
    "id": "pJ7kryvdrqcg"
   },
   "source": [
    "We are building a single step LSTM model for training data with dropout 0.3 and we used ADAM optimizers."
   ]
  },
  {
   "cell_type": "code",
   "execution_count": null,
   "metadata": {
    "colab": {
     "base_uri": "https://localhost:8080/"
    },
    "id": "snN_Flr5DWQN",
    "outputId": "449c5036-923b-4a60-8e6d-dad286ef1c59"
   },
   "outputs": [],
   "source": [
    "multi_step_model = tf.keras.models.Sequential()\n",
    "multi_step_model.add(tf.keras.layers.LSTM(32,\n",
    "                                          return_sequences=True,\n",
    "                                          input_shape=x_train_multi.shape[-2:]))\n",
    "multi_step_model.add(tf.keras.layers.LSTM(16, activation='relu'))\n",
    "#aDD dropout layer (0.3)\n",
    "multi_step_model.add(tf.keras.layers.Dense(72)) # for 72 outputs\n",
    "\n",
    "multi_step_model.compile(optimizer=tf.keras.optimizers.RMSprop(clipvalue=1.0), loss='mae',metrics=[tf.keras.metrics.RootMeanSquaredError(name='rmse')])\n",
    "\n",
    "multi_step_history = multi_step_model.fit(train_data_multi, epochs=EPOCHS,\n",
    "                                          steps_per_epoch=steps,\n",
    "                                          validation_data=val_data_multi,\n",
    "                                          validation_steps=50)"
   ]
  },
  {
   "cell_type": "code",
   "execution_count": null,
   "metadata": {
    "colab": {
     "base_uri": "https://localhost:8080/",
     "height": 281
    },
    "id": "Ay5m27doDsTt",
    "outputId": "803927cb-1be0-4f8b-e31e-2dcb68a7e217"
   },
   "outputs": [],
   "source": [
    "plot_loss(multi_step_history, 'Multi-Step Training and validation loss')"
   ]
  },
  {
   "cell_type": "code",
   "execution_count": null,
   "metadata": {
    "colab": {
     "base_uri": "https://localhost:8080/",
     "height": 1000
    },
    "id": "6ZFP49W4D2wp",
    "outputId": "b810ee24-c241-45ce-e60c-c002d81270d0"
   },
   "outputs": [],
   "source": [
    "for x, y in val_data_multi.take(5):\n",
    "  multi_step_plot(x[0], y[0], multi_step_model.predict(x)[0])"
   ]
  },
  {
   "cell_type": "code",
   "execution_count": null,
   "metadata": {
    "colab": {
     "base_uri": "https://localhost:8080/"
    },
    "id": "DNKMjVoAVqZP",
    "outputId": "8639928a-99de-4dbd-9394-34b651da23ac"
   },
   "outputs": [],
   "source": [
    "scores = multi_step_model.evaluate(x_train_multi, y_train_multi, verbose=1, batch_size=200)\n",
    "print('MAE: {}'.format(scores[1]))"
   ]
  },
  {
   "cell_type": "code",
   "execution_count": null,
   "metadata": {
    "colab": {
     "base_uri": "https://localhost:8080/"
    },
    "id": "oLqijoE9W-Gm",
    "outputId": "ccb080da-2676-4cf8-d3a3-968bc5cb6c94"
   },
   "outputs": [],
   "source": [
    "scores_test = multi_step_model.evaluate(x_val_multi, y_val_multi, verbose=1, batch_size=200)\n",
    "print('MAE: {}'.format(scores[1]))"
   ]
  }
 ],
 "metadata": {
  "colab": {
   "collapsed_sections": [],
   "name": "LSTM.ipynb",
   "provenance": []
  },
  "kernelspec": {
   "display_name": "Python 3 (ipykernel)",
   "language": "python",
   "name": "python3"
  },
  "language_info": {
   "codemirror_mode": {
    "name": "ipython",
    "version": 3
   },
   "file_extension": ".py",
   "mimetype": "text/x-python",
   "name": "python",
   "nbconvert_exporter": "python",
   "pygments_lexer": "ipython3",
   "version": "3.9.7"
  }
 },
 "nbformat": 4,
 "nbformat_minor": 1
}
