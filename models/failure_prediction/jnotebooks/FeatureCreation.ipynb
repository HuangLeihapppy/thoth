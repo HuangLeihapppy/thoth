{
 "cells": [
  {
   "cell_type": "markdown",
   "metadata": {
    "id": "zyycU3DFlecK"
   },
   "source": [
    "Contributors: **Rohit Singh Rathaur, Girish L.** \n",
    "\n",
    "Copyright [2021](2021) [*Rohit Singh Rathaur, BIT Mesra and Girish L., CIT GUBBI, Karnataka*]\n",
    "\n",
    "Licensed under the Apache License, Version 2.0 (the \"License\");\n",
    "you may not use this file except in compliance with the License.\n",
    "You may obtain a copy of the License at\n",
    "\n",
    "    http://www.apache.org/licenses/LICENSE-2.0\n",
    "\n",
    "Unless required by applicable law or agreed to in writing, software\n",
    "distributed under the License is distributed on an \"AS IS\" BASIS,\n",
    "WITHOUT WARRANTIES OR CONDITIONS OF ANY KIND, either express or implied.\n",
    "See the License for the specific language governing permissions and\n",
    "limitations under the License."
   ]
  },
  {
   "cell_type": "code",
   "execution_count": null,
   "metadata": {
    "id": "gehKp2rySVf8"
   },
   "outputs": [],
   "source": [
    "# Import libraries use for visualization and analysis\n",
    "import pandas as pd\n",
    "import numpy as np\n",
    "\n",
    "%matplotlib inline\n",
    "import matplotlib\n",
    "import matplotlib.pyplot as plt\n",
    "\n",
    "from pandas import Series,DataFrame\n",
    "import matplotlib.pyplot as plt\n",
    "import seaborn as sns\n",
    "from sklearn.preprocessing import scale\n",
    "from sklearn.decomposition import PCA\n",
    "from sklearn.discriminant_analysis import LinearDiscriminantAnalysis\n",
    "from scipy import stats\n",
    "from IPython.display import display, HTML"
   ]
  },
  {
   "cell_type": "code",
   "execution_count": null,
   "metadata": {
    "colab": {
     "base_uri": "https://localhost:8080/"
    },
    "id": "tkuBlbCXSsdP",
    "outputId": "2b3ef633-a851-4c53-80eb-6b1bf4ffcc1c"
   },
   "outputs": [],
   "source": [
    "from google.colab import drive\n",
    "drive.mount('/gdrive')"
   ]
  },
  {
   "cell_type": "markdown",
   "metadata": {
    "id": "wZXe8D88S-6R"
   },
   "source": [
    "# **Loading the Data**"
   ]
  },
  {
   "cell_type": "code",
   "execution_count": null,
   "metadata": {
    "id": "KiDSpl37Sy39"
   },
   "outputs": [],
   "source": [
    "df_Ellis  = pd.read_csv(\"/gdrive/MyDrive/LFN Anuket/Analysis/data/Final/Final.csv\")\n",
    "#df_Bono  = pd.read_csv(\"/gdrive/MyDrive/LFN Anuket/Analysis/data/matrices/df_Bono.csv\", error_bad_lines=False)\n",
    "#df_Sprout  = pd.read_csv(\"/gdrive/MyDrive/LFN Anuket/Analysis/data/matrices/df_Sprout.csv\", error_bad_lines=False)\n",
    "#df_Homer  = pd.read_csv(\"/gdrive/MyDrive/LFN Anuket/Analysis/data/matrices/df_Homer.csv\", error_bad_lines=False)\n",
    "#df_Homestead  = pd.read_csv(\"/gdrive/MyDrive/LFN Anuket/Analysis/data/matrices/df_Homestead.csv\", error_bad_lines=False)\n",
    "#df_Ralf  = pd.read_csv(\"/gdrive/MyDrive/LFN Anuket/Analysis/data/matrices/df_Ralf.csv\", error_bad_lines=False)"
   ]
  },
  {
   "cell_type": "code",
   "execution_count": null,
   "metadata": {
    "colab": {
     "base_uri": "https://localhost:8080/",
     "height": 204
    },
    "id": "dpy8jAm-TsCs",
    "outputId": "d8ad2072-1fa3-4b3c-fb55-b5128767b349"
   },
   "outputs": [],
   "source": [
    "df_Ellis.head()"
   ]
  },
  {
   "cell_type": "code",
   "execution_count": null,
   "metadata": {
    "colab": {
     "base_uri": "https://localhost:8080/",
     "height": 297
    },
    "id": "dJa9FgJNgqpI",
    "outputId": "54d6c43d-489f-4347-93e5-12e4a4da2066"
   },
   "outputs": [],
   "source": [
    "df_Ellis.describe()"
   ]
  },
  {
   "cell_type": "code",
   "execution_count": null,
   "metadata": {
    "id": "xGVleQbnhRm6"
   },
   "outputs": [],
   "source": [
    "#df_Ellis['SLO1'] = 0\n",
    "#print('Column names are: ',list(df_Ellis.columns))"
   ]
  },
  {
   "cell_type": "code",
   "execution_count": null,
   "metadata": {
    "colab": {
     "base_uri": "https://localhost:8080/"
    },
    "id": "b-F_gA61xowR",
    "outputId": "f9bd6232-2603-40ad-ccff-18887839e2da"
   },
   "outputs": [],
   "source": [
    "df4 = df_Ellis[\"ellis-load.avg_1_min\"] > 2.45\n",
    "df4\n",
    "df4.to_csv('/gdrive/MyDrive/LFN Anuket/Analysis/data/Final/EllisLoadAvgLabel_lessthan0198.csv')\n",
    "df4.head(50)"
   ]
  },
  {
   "cell_type": "code",
   "execution_count": null,
   "metadata": {
    "colab": {
     "base_uri": "https://localhost:8080/"
    },
    "id": "8xcPRerCz8nA",
    "outputId": "fb66f20e-7365-40ec-857a-9dd9a8072401"
   },
   "outputs": [],
   "source": [
    "df3 = df_Ellis[\"ellis-cpu.wait_perc\"] > 5\n",
    "df3\n",
    "df3.to_csv('/gdrive/MyDrive/LFN Anuket/Analysis/data/Final/ellis-cpu>5.csv')\n",
    "df3.head(50)"
   ]
  },
  {
   "cell_type": "code",
   "execution_count": null,
   "metadata": {
    "colab": {
     "base_uri": "https://localhost:8080/"
    },
    "id": "EED56Wiq_NjM",
    "outputId": "20b06258-c5ba-457b-a022-cf5823217cbf"
   },
   "outputs": [],
   "source": [
    "df5 = df_Ellis[\"ellis-net.out_packets_sec\"] > 1000\n",
    "df5\n",
    "df5.to_csv('/gdrive/MyDrive/LFN Anuket/Analysis/data/Final/ellis-net.in_bytes_sec21139.csv')\n",
    "df5.head(50)"
   ]
  },
  {
   "cell_type": "code",
   "execution_count": null,
   "metadata": {
    "colab": {
     "base_uri": "https://localhost:8080/"
    },
    "id": "phlI40_y0mug",
    "outputId": "7fa177b9-bf9a-4b96-db65-7402f7f6cf32"
   },
   "outputs": [],
   "source": [
    "# We are applying Logical OR Operator between df4 and df3\n",
    "df6 = (df4[0:176999]) | (df3[0:176999])\n",
    "df6.head(50)"
   ]
  },
  {
   "cell_type": "code",
   "execution_count": null,
   "metadata": {
    "colab": {
     "base_uri": "https://localhost:8080/"
    },
    "id": "9xKYzZcLAZGy",
    "outputId": "bc15e547-c791-4104-8bb2-8ed4d3288ac1"
   },
   "outputs": [],
   "source": [
    "df6.to_csv('/gdrive/MyDrive/LFN Anuket/Analysis/data/Final/OR_TwoCondition(2).csv')\n",
    "df6.head(50)"
   ]
  },
  {
   "cell_type": "code",
   "execution_count": null,
   "metadata": {
    "colab": {
     "base_uri": "https://localhost:8080/"
    },
    "id": "wRADpDibBZo5",
    "outputId": "dfc6dc79-3d9f-4979-8210-e62e77b1aa6e"
   },
   "outputs": [],
   "source": [
    "df7 = (df6[0:176999]) | (df5[0:176999])\n",
    "df7.head(50)"
   ]
  },
  {
   "cell_type": "code",
   "execution_count": null,
   "metadata": {
    "colab": {
     "base_uri": "https://localhost:8080/"
    },
    "id": "w6BrDjX4CODn",
    "outputId": "a6c956e7-6aed-4bdd-f37f-505a994de51a"
   },
   "outputs": [],
   "source": [
    "df7.to_csv('/gdrive/MyDrive/LFN Anuket/Analysis/data/Final/FinalORLabel8.5.csv')\n",
    "df7.head(50)"
   ]
  },
  {
   "cell_type": "code",
   "execution_count": null,
   "metadata": {
    "id": "wwv2cjFAIFHL"
   },
   "outputs": [],
   "source": [
    "df_Ellis.insert (7, \"Label\", df7)"
   ]
  },
  {
   "cell_type": "code",
   "execution_count": null,
   "metadata": {
    "id": "hrPqpjd96I1x"
   },
   "outputs": [],
   "source": [
    "#df_Ellis.insert (8, \"Label\", df7)"
   ]
  },
  {
   "cell_type": "code",
   "execution_count": null,
   "metadata": {
    "id": "_zKkQLOz6qPY"
   },
   "outputs": [],
   "source": [
    "# We applied Logical OR operator in two features only known as  and df3 and df4 and stored result in df6 which is known as Final Label after applying OR condition\n",
    "df_Ellis\n",
    "df_Ellis.to_csv('/gdrive/MyDrive/LFN Anuket/Analysis/data/Final/Ellis_FinalTwoConditionwithOR.csv')"
   ]
  },
  {
   "cell_type": "code",
   "execution_count": null,
   "metadata": {
    "colab": {
     "base_uri": "https://localhost:8080/",
     "height": 606
    },
    "id": "3rEy1vtp67M9",
    "outputId": "4e2175cc-dccb-4aaf-a152-e2452de241b0"
   },
   "outputs": [],
   "source": [
    "df_Ellis.head(100)"
   ]
  },
  {
   "cell_type": "code",
   "execution_count": null,
   "metadata": {
    "colab": {
     "base_uri": "https://localhost:8080/"
    },
    "id": "11Qu45RY0HNG",
    "outputId": "305c5dd5-ec61-48a8-abb6-e29bbc4b9e42"
   },
   "outputs": [],
   "source": [
    "# pandas count distinct values in column\n",
    "df_Ellis['Label'].value_counts()"
   ]
  },
  {
   "cell_type": "code",
   "execution_count": null,
   "metadata": {
    "id": "0sB-W_Ny4eHk"
   },
   "outputs": [],
   "source": [
    "#final.to_csv('/gdrive/MyDrive/LFN Anuket/Analysis/data/New/FinalLabel.csv')"
   ]
  },
  {
   "cell_type": "code",
   "execution_count": null,
   "metadata": {
    "id": "ERsufys7wcSg"
   },
   "outputs": [],
   "source": [
    "#df_Ellis.loc[(df_Ellis[\"ellis-cpu.wait_perc\"] > 5) & (df_Ellis[\"ellis-load.avg_1_min\"] > 2)]"
   ]
  },
  {
   "cell_type": "markdown",
   "metadata": {
    "id": "9le7MwnDhlnH"
   },
   "source": [
    "# **Creating New Features**"
   ]
  },
  {
   "cell_type": "code",
   "execution_count": null,
   "metadata": {
    "id": "090QXGpPlEF6"
   },
   "outputs": [],
   "source": []
  }
 ],
 "metadata": {
  "colab": {
   "name": "FeatureCreation.ipynb",
   "provenance": []
  },
  "kernelspec": {
   "display_name": "Python 3 (ipykernel)",
   "language": "python",
   "name": "python3"
  },
  "language_info": {
   "codemirror_mode": {
    "name": "ipython",
    "version": 3
   },
   "file_extension": ".py",
   "mimetype": "text/x-python",
   "name": "python",
   "nbconvert_exporter": "python",
   "pygments_lexer": "ipython3",
   "version": "3.9.7"
  }
 },
 "nbformat": 4,
 "nbformat_minor": 1
}
